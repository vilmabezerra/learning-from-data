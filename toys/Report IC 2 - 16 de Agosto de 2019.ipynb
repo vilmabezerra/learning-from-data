{
 "cells": [
  {
   "cell_type": "markdown",
   "metadata": {},
   "source": [
    "# Relatório de Inteligência Computacional 2\n",
    "\n",
    "## Aluna: Vilma Bezerra Alves"
   ]
  },
  {
   "cell_type": "markdown",
   "metadata": {},
   "source": [
    "##### Importando arquivos referentes aos homeworks"
   ]
  },
  {
   "cell_type": "code",
   "execution_count": 1,
   "metadata": {},
   "outputs": [],
   "source": [
    "from first_one import *\n",
    "from second_one import *\n",
    "from fifth_one import *"
   ]
  },
  {
   "cell_type": "markdown",
   "metadata": {},
   "source": [
    "### Algoritmo de Aprendizagem Perceptron\n",
    "\n"
   ]
  },
  {
   "cell_type": "code",
   "execution_count": 3,
   "metadata": {},
   "outputs": [
    {
     "name": "stdout",
     "output_type": "stream",
     "text": [
      "It took me an average of 10.696 iterations!\n",
      "Expected error: 0.1767\n"
     ]
    }
   ],
   "source": [
    "generate_data_and_train_pla(n_elements=10, min=-1, max=1, times_to_run=1000)"
   ]
  },
  {
   "cell_type": "code",
   "execution_count": null,
   "metadata": {},
   "outputs": [],
   "source": [
    "generate_data_and_train_pla(n_elements=100, min=-1, max=1, times_to_run=1000)"
   ]
  },
  {
   "cell_type": "markdown",
   "metadata": {},
   "source": [
    "### Regressão Linear"
   ]
  },
  {
   "cell_type": "code",
   "execution_count": 2,
   "metadata": {},
   "outputs": [
    {
     "name": "stdout",
     "output_type": "stream",
     "text": [
      "iteration: 999, E_in: 0.04\n",
      "Average in sample error: 0.040220000000000006\n",
      "Average out of sample error: 0.049285\n"
     ]
    }
   ],
   "source": [
    "linear_regression_part1(n_points=100)"
   ]
  },
  {
   "cell_type": "code",
   "execution_count": 3,
   "metadata": {},
   "outputs": [
    {
     "name": "stdout",
     "output_type": "stream",
     "text": [
      "Average iterations: 5.218\n"
     ]
    }
   ],
   "source": [
    "linear_regression_part2(n_points=10)"
   ]
  },
  {
   "cell_type": "markdown",
   "metadata": {},
   "source": [
    "### Regressão Não-Linear"
   ]
  },
  {
   "cell_type": "code",
   "execution_count": 3,
   "metadata": {},
   "outputs": [
    {
     "name": "stdout",
     "output_type": "stream",
     "text": [
      "iteration: 999, E_in: 0.505\n",
      "Average E_in when data is noisy: 0.5066609999999999\n",
      "\n",
      "Average weights when data is transformed: [-1.2413738828167575, -0.0006703581184241351, -0.0014373806849987344, -0.003283232730832531, 1.949585054059467, 1.9473097033543298]\n",
      "iteration: 999, E_out: 0.125\n",
      "Average E_out when data is noisy: 0.123219\n"
     ]
    }
   ],
   "source": [
    "nonlinear_regression_part(n_points=1000)"
   ]
  },
  {
   "cell_type": "markdown",
   "metadata": {},
   "source": [
    "### Gradiente Descendente"
   ]
  },
  {
   "cell_type": "code",
   "execution_count": 2,
   "metadata": {},
   "outputs": [
    {
     "name": "stdout",
     "output_type": "stream",
     "text": [
      "\n",
      "Iterations to error get bellow to 1.0e-14: 11\n",
      "\n",
      "u and v coordinates at the end: (0.04473629039778207, 0.023958714099141746)\n",
      "\n",
      "Error after 15 full iterations: 1.398e-01\n"
     ]
    }
   ],
   "source": [
    "gradient_descent_part(min_value=1e-14)"
   ]
  },
  {
   "cell_type": "markdown",
   "metadata": {},
   "source": [
    "### Regressão Logística"
   ]
  },
  {
   "cell_type": "code",
   "execution_count": null,
   "metadata": {},
   "outputs": [],
   "source": []
  }
 ],
 "metadata": {
  "kernelspec": {
   "display_name": "Python 3",
   "language": "python",
   "name": "python3"
  },
  "language_info": {
   "codemirror_mode": {
    "name": "ipython",
    "version": 3
   },
   "file_extension": ".py",
   "mimetype": "text/x-python",
   "name": "python",
   "nbconvert_exporter": "python",
   "pygments_lexer": "ipython3",
   "version": "3.6.1"
  }
 },
 "nbformat": 4,
 "nbformat_minor": 2
}
